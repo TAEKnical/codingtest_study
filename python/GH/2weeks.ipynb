{
 "cells": [
  {
   "cell_type": "markdown",
   "metadata": {},
   "source": [
    "문제 1: 리스트의 중복 제거 및 정렬 \n",
    "\n",
    "리스트 lst가 주어졌을 때, 리스트 내 중복된 요소를 제거하고 남은 요소들을 오름차순으로 정렬한 새로운 리스트를 반환하는 함수를 작성하세요."
   ]
  },
  {
   "cell_type": "markdown",
   "metadata": {},
   "source": []
  },
  {
   "cell_type": "code",
   "execution_count": 7,
   "metadata": {},
   "outputs": [
    {
     "name": "stdout",
     "output_type": "stream",
     "text": [
      "[1, 2, 3, 4]\n",
      "[5]\n",
      "[1, 2, 3, 4, 5]\n"
     ]
    }
   ],
   "source": [
    "def remove_duplicates_and_sort(lst):\n",
    "    return sorted(set(lst))\n",
    "\n",
    "# 예시\n",
    "print(remove_duplicates_and_sort([4, 2, 2, 1, 3, 4]))  # 출력: [1, 2, 3, 4]\n",
    "print(remove_duplicates_and_sort([5, 5, 5, 5]))  # 출력: [5]\n",
    "print(remove_duplicates_and_sort([1, 2, 3, 4, 5]))  # 출력: [1, 2, 3, 4, 5]"
   ]
  },
  {
   "cell_type": "markdown",
   "metadata": {},
   "source": [
    "문제 2: 딕셔너리 키의 빈도수 계산\n",
    "\n",
    "문자열 리스트 words가 주어졌을 때, 각 단어가 리스트에 등장하는 빈도수를 딕셔너리로 반환하는 함수를 작성하세요.\n",
    "\n"
   ]
  },
  {
   "cell_type": "code",
   "execution_count": 13,
   "metadata": {},
   "outputs": [
    {
     "name": "stdout",
     "output_type": "stream",
     "text": [
      "{'apple': 3, 'banana': 2, 'orange': 1}\n",
      "None\n",
      "{'dog': 3, 'cat': 1, 'fish': 1}\n",
      "None\n"
     ]
    }
   ],
   "source": [
    "def count_word_frequencies(words):\n",
    "    temp_dict = {}\n",
    "    for word in words:\n",
    "        if word in temp_dict:\n",
    "            temp_dict[word] += 1\n",
    "        else:\n",
    "            temp_dict[word] =1\n",
    "    print(temp_dict)\n",
    "\n",
    "\n",
    "# 예시\n",
    "print(count_word_frequencies([\"apple\", \"banana\", \"apple\", \"orange\", \"banana\", \"apple\"]))  \n",
    "# 출력: {'apple': 3, 'banana': 2, 'orange': 1}\n",
    "print(count_word_frequencies([\"dog\", \"cat\", \"dog\", \"dog\", \"fish\"]))  \n",
    "# 출력: {'dog': 3, 'cat': 1, 'fish': 1}"
   ]
  },
  {
   "cell_type": "markdown",
   "metadata": {},
   "source": [
    "문제 3: 딕셔너리 키 존재 여부 확인\n",
    "\n",
    "딕셔너리 d와 키 key가 주어졌을 때, 해당 키가 딕셔너리에 존재하는지 여부를 반환하는 함수를 작성하세요."
   ]
  },
  {
   "cell_type": "code",
   "execution_count": 16,
   "metadata": {},
   "outputs": [
    {
     "name": "stdout",
     "output_type": "stream",
     "text": [
      "True\n",
      "False\n",
      "False\n"
     ]
    }
   ],
   "source": [
    "def key_exists(d, key):\n",
    "    if key in d:\n",
    "        return True\n",
    "    else:\n",
    "        return False\n",
    "\n",
    "# 예시\n",
    "print(key_exists({\"name\": \"Alice\", \"age\": 25}, \"name\"))  # 출력: True\n",
    "print(key_exists({\"name\": \"Alice\", \"age\": 25}, \"address\"))  # 출력: False\n",
    "print(key_exists({}, \"key\"))  # 출력: False"
   ]
  },
  {
   "cell_type": "markdown",
   "metadata": {},
   "source": [
    "문제 4: 튜플의 요소 합\n",
    "\n",
    "튜플 tpl이 주어졌을 때, 튜플 내 모든 요소의 합을 반환하는 함수를 작성하세요."
   ]
  },
  {
   "cell_type": "code",
   "execution_count": 17,
   "metadata": {},
   "outputs": [
    {
     "name": "stdout",
     "output_type": "stream",
     "text": [
      "10\n",
      "5\n",
      "0\n"
     ]
    }
   ],
   "source": [
    "def sum_of_tuple(tpl):\n",
    "    return sum(tpl)\n",
    "\n",
    "# 예시\n",
    "print(sum_of_tuple((1, 2, 3, 4)))  # 출력: 10\n",
    "print(sum_of_tuple((5,)))  # 출력: 5\n",
    "print(sum_of_tuple(()))  # 출력: 0"
   ]
  },
  {
   "cell_type": "markdown",
   "metadata": {},
   "source": [
    "문제 5: 리스트 슬라이싱으로 부분 리스트 추출\n",
    "\n",
    "리스트 lst와 두 개의 정수 start, end가 주어졌을 때, 주어진 범위에 해당하는 부분 리스트를 반환하는 함수를 작성하세요. start 인덱스는 포함되며, end 인덱스는 포함되지 않습니다."
   ]
  },
  {
   "cell_type": "code",
   "execution_count": 18,
   "metadata": {},
   "outputs": [
    {
     "name": "stdout",
     "output_type": "stream",
     "text": [
      "[20, 30]\n",
      "[1, 2, 3, 4, 5]\n",
      "[]\n"
     ]
    }
   ],
   "source": [
    "def slice_list(lst, start, end):\n",
    "    return lst[start:end]\n",
    "\n",
    "# 예시\n",
    "print(slice_list([10, 20, 30, 40, 50], 1, 3))  # 출력: [20, 30]\n",
    "print(slice_list([1, 2, 3, 4, 5], 0, 5))  # 출력: [1, 2, 3, 4, 5]\n",
    "print(slice_list([7, 8, 9], 1, 1))  # 출력: []"
   ]
  }
 ],
 "metadata": {
  "kernelspec": {
   "display_name": "Python 3",
   "language": "python",
   "name": "python3"
  },
  "language_info": {
   "codemirror_mode": {
    "name": "ipython",
    "version": 3
   },
   "file_extension": ".py",
   "mimetype": "text/x-python",
   "name": "python",
   "nbconvert_exporter": "python",
   "pygments_lexer": "ipython3",
   "version": "3.9.6"
  }
 },
 "nbformat": 4,
 "nbformat_minor": 2
}
