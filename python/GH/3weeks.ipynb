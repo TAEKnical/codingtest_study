{
 "cells": [
  {
   "cell_type": "markdown",
   "metadata": {},
   "source": [
    "# 리스트 합 문제\n",
    "문제 설명: 주어진 정수 리스트에서 두 수의 합이 특정 목표 값이 되는 모든 쌍을 찾아라.\n",
    "\n",
    "입력: 정수 리스트와 목표 정수\n",
    "\n",
    "출력: 목표 값이 되는 모든 수 쌍 (중복 없이)"
   ]
  },
  {
   "cell_type": "code",
   "execution_count": 12,
   "metadata": {},
   "outputs": [
    {
     "name": "stdout",
     "output_type": "stream",
     "text": [
      "[(2, 7)]\n"
     ]
    }
   ],
   "source": [
    "nums = [2,7,11,15]\n",
    "target = 9\n",
    "result = []\n",
    "for i in range(len(nums)):\n",
    "    for j in range(i+1,len(nums)):\n",
    "        if nums[i] + nums[j] == target:\n",
    "            result.append(tuple(sorted([nums[i],nums[j]])))\n",
    "result = list(set(result))\n",
    "print(result) "
   ]
  },
  {
   "cell_type": "markdown",
   "metadata": {},
   "source": [
    "# 연속된 1의 최대 길이\n",
    "문제 설명: 0과 1로 이루어진 리스트에서 가장 긴 연속된 1의 길이를 찾아라.\n",
    "\n",
    "입력: 0과 1로만 이루어진 리스트\n",
    "\n",
    "출력: 가장 긴 연속된 1의 길이"
   ]
  },
  {
   "cell_type": "code",
   "execution_count": 17,
   "metadata": {},
   "outputs": [
    {
     "name": "stdout",
     "output_type": "stream",
     "text": [
      "3\n"
     ]
    }
   ],
   "source": [
    "nums = [1, 1, 0, 1, 1, 1]\n",
    "result = 0 \n",
    "temp = 0\n",
    "for i in nums:\n",
    "    if i == 1:\n",
    "        temp += 1\n",
    "        if temp > result:\n",
    "            result = temp\n",
    "    else:\n",
    "        temp = 0\n",
    "print(result)"
   ]
  },
  {
   "cell_type": "markdown",
   "metadata": {},
   "source": [
    "# 중복 요소 찾기\n",
    "문제 설명: 정수 리스트에서 중복된 숫자를 모두 찾아라.\n",
    "\n",
    "입력: 정수 리스트\n",
    "\n",
    "출력: 중복된 숫자의 리스트"
   ]
  },
  {
   "cell_type": "code",
   "execution_count": 21,
   "metadata": {},
   "outputs": [
    {
     "name": "stdout",
     "output_type": "stream",
     "text": [
      "[2, 3, 1, 4]\n"
     ]
    }
   ],
   "source": [
    "nums = [4, 3, 2, 7, 8, 2, 3, 1]\n",
    "\n",
    "temp_dict = {}\n",
    "result = []\n",
    "for i in nums:\n",
    "    if i not in temp_dict:\n",
    "        temp_dict[i] =1\n",
    "    else:\n",
    "        result.append(i)\n",
    "\n",
    "print(result)\n"
   ]
  },
  {
   "cell_type": "markdown",
   "metadata": {},
   "source": [
    "# 회전된 리스트의 회전 횟수 찾기\n",
    "문제 설명: 주어진 리스트가 몇 번 회전되어 오름차순으로 정렬될 수 있는지 찾는 문제입니다. 원래 리스트는 오름차순으로 정렬된 상태에서 오른쪽으로 회전된 상태입니다.\n",
    "\n",
    "입력: 정렬된 리스트가 오른쪽으로 회전된 상태의 리스트\n",
    "\n",
    "출력: 리스트가 오름차순으로 정렬되기 위해 필요한 회전 횟수"
   ]
  },
  {
   "cell_type": "code",
   "execution_count": 28,
   "metadata": {},
   "outputs": [
    {
     "name": "stdout",
     "output_type": "stream",
     "text": [
      "4\n"
     ]
    }
   ],
   "source": [
    "nums = [4, 5, 6, 7, 0, 1, 2]\n",
    "print(nums.index(min(nums)))"
   ]
  },
  {
   "cell_type": "markdown",
   "metadata": {},
   "source": [
    "# 2D 리스트의 나선형 출력\n",
    "문제 설명: N x N 크기의 2D 리스트를 나선형(spiral) 순서로 출력하라.\n",
    "\n",
    "입력: N x N 2D 리스트\n",
    "\n",
    "출력: 나선형 순서로 배열된 요소들의 리스트"
   ]
  },
  {
   "cell_type": "code",
   "execution_count": 38,
   "metadata": {},
   "outputs": [
    {
     "name": "stdout",
     "output_type": "stream",
     "text": [
      "[1, 2, 3, 4, 5, 10, 15, 20, 25, 24, 23, 22, 21, 16, 11, 6, 7, 8, 9, 14, 19, 18, 17, 12, 13]\n"
     ]
    }
   ],
   "source": [
    "matrix1 = [\n",
    "    [1, 2, 3],\n",
    "    [4, 5, 6],\n",
    "    [7, 8, 9]\n",
    "]\n",
    "\n",
    "matrix2 = [\n",
    "    [1, 2, 3, 4],\n",
    "    [5, 6, 7, 8],\n",
    "    [9, 10, 11, 12],\n",
    "    [13, 14, 15, 16]\n",
    "]\n",
    "\n",
    "matrix3 = [\n",
    "    [1, 2, 3, 4, 5],\n",
    "    [6, 7, 8, 9 ,10],\n",
    "    [11, 12, 13, 14, 15],\n",
    "    [16, 17, 18, 19, 20],\n",
    "    [21, 22, 23, 24,25]\n",
    "]\n",
    "matrix = matrix3\n",
    "point_r_start = 0\n",
    "point_r = len(matrix[0]) -1\n",
    "point_c_start = 0\n",
    "point_c = len(matrix) -1\n",
    "\n",
    "r = len(matrix)\n",
    "c = len(matrix[0])\n",
    "result = []\n",
    "while point_r >= point_r_start:\n",
    "    #right\n",
    "    result += matrix[point_c_start][point_r_start:point_c+1]\n",
    "    point_r_start +=1\n",
    "    #down\n",
    "    for r in range(point_r_start,point_r+1):\n",
    "        result.append(matrix[r][point_r])\n",
    "    point_c -= 1\n",
    "    #left\n",
    "    result += matrix[point_r][point_c_start:point_c+1][::-1]\n",
    "    point_r -= 1\n",
    "    #up\n",
    "    for r in range(point_r,point_r_start -1,-1):\n",
    "        result.append(matrix[r][point_c_start])\n",
    "    point_c_start += 1\n",
    "\n",
    "print(result)"
   ]
  },
  {
   "cell_type": "markdown",
   "metadata": {},
   "source": [
    "# 리스트에서 모듈러 연산 문제\n",
    "문제 설명: 주어진 리스트에서 각 요소를 k로 나눈 나머지를 계산하여 나머지가 같은 요소들이 몇 개 있는지 세어라.\n",
    "\n",
    "입력: 정수 리스트와 나눌 수 k\n",
    "\n",
    "출력: 나머지가 같은 요소들의 개수"
   ]
  },
  {
   "cell_type": "code",
   "execution_count": 40,
   "metadata": {},
   "outputs": [
    {
     "name": "stdout",
     "output_type": "stream",
     "text": [
      "2\n",
      "0\n",
      "2\n",
      "2\n",
      "1\n",
      "2\n",
      "{2: 4, 0: 1, 1: 1}\n"
     ]
    }
   ],
   "source": [
    "nums = [2, 3, 5, 8, 10, 14]\n",
    "k = 3\n",
    "result_dict = {}\n",
    "for i in nums:\n",
    "    temp = i % k\n",
    "    print(temp)\n",
    "    if temp not in result_dict:\n",
    "        result_dict[temp] = 1\n",
    "    else:\n",
    "        result_dict[temp] += 1\n",
    "print(result_dict)"
   ]
  },
  {
   "cell_type": "markdown",
   "metadata": {},
   "source": [
    "# 슬라이딩 윈도우 최대합 문제\n",
    "문제 설명: 길이가 N인 정수 리스트에서 연속된 K개의 요소로 이루어진 부분 리스트의 최대 합을 찾아라.\n",
    "\n",
    "입력: 정수 리스트와 정수 K\n",
    "\n",
    "출력: 연속된 K개의 요소의 최대 합"
   ]
  },
  {
   "cell_type": "code",
   "execution_count": 47,
   "metadata": {},
   "outputs": [
    {
     "name": "stdout",
     "output_type": "stream",
     "text": [
      "39\n"
     ]
    }
   ],
   "source": [
    "nums = [1, 4, 2, 10, 23, 3, 1, 0, 20]\n",
    "k = 4\n",
    "result = 0\n",
    "for i in range(0,len(nums)-k):\n",
    "    if result < sum(nums[i:i+k]):\n",
    "        result = sum(nums[i:i+k])\n",
    "print(result)"
   ]
  },
  {
   "cell_type": "markdown",
   "metadata": {},
   "source": [
    "# 특정 좌표의 8방향 값 출력 문제\n",
    "문제 설명: 주어진 2D 리스트에서 특정 좌표 (x, y)의 주변 8방향 값을 출력하라. 만약 범위를 벗어나는 경우, \"벗어났다\"라는 메시지를 출력해야 한다.\n",
    "\n",
    "입력: N x M 2D 리스트, 좌표 (x, y)\n",
    "\n",
    "출력: 특정 좌표의 8방향 값 또는 범위를 벗어난 경우 \"벗어났다\" 메시지 출력"
   ]
  },
  {
   "cell_type": "code",
   "execution_count": 62,
   "metadata": {},
   "outputs": [
    {
     "name": "stdout",
     "output_type": "stream",
     "text": [
      "[1, 2, 3, 4, 6, 7, 8, 9]\n"
     ]
    }
   ],
   "source": [
    "matrix = [\n",
    "    [1, 2, 3],\n",
    "    [4, 5, 6],\n",
    "    [7, 8, 9]\n",
    "]\n",
    "x = 1\n",
    "y = 1\n",
    "result = []\n",
    "for i in range(8):\n",
    "    if x-1 < 0 or x+1> len(matrix[0]) or y-1 <0 or y+1 > len(matrix):\n",
    "        print(\"벗어났다\")\n",
    "    else:\n",
    "        result = matrix[y-1][x-1:x+2]\n",
    "        result.append(matrix[y][x-1])\n",
    "        result.append(matrix[y][x+1])\n",
    "        result += matrix[y+1][x-1:x+2]\n",
    "print(result)\n"
   ]
  },
  {
   "cell_type": "markdown",
   "metadata": {},
   "source": [
    "# 지뢰 찾기 의사코드 작성 문제\n",
    "문제 설명: 지뢰 찾기 게임에서 지뢰의 위치가 주어졌을 때, 각 빈 칸이 주변에 몇 개의 지뢰가 있는지 계산하는 로직을 의사코드로 작성하라.\n",
    "\n",
    "입력: N x M 크기의 2D 리스트, 지뢰의 위치가 표시된 리스트\n",
    "\n",
    "출력: 각 빈 칸의 지뢰 개수를 계산한 결과 리스트"
   ]
  },
  {
   "cell_type": "code",
   "execution_count": 92,
   "metadata": {},
   "outputs": [
    {
     "name": "stdout",
     "output_type": "stream",
     "text": [
      "[['M', 1, 1, 'M'], [2, 2, 2, 1], [1, 'M', 1, 0]]\n"
     ]
    }
   ],
   "source": [
    "matrix = [\n",
    "  ['M', '.', '.', 'M'],\n",
    "  ['.', '.', '.', '.'],\n",
    "  ['.', 'M', '.', '.']\n",
    "]\n",
    "\n",
    "row = len(matrix)\n",
    "column = len(matrix[0])\n",
    "result = [[0]*column for _ in range(row)]\n",
    "for r in range(row):\n",
    "    for c in range(column):\n",
    "      temp = 0\n",
    "      if matrix[r][c] != 'M':\n",
    "          if r-1 >= 0 and c-1 >=0 and matrix[r-1][c-1] == 'M':\n",
    "              temp +=1\n",
    "          if r-1 >= 0 and matrix[r-1][c] == 'M':\n",
    "               temp +=1\n",
    "          if r-1 >= 0 and c+1 < column and matrix[r-1][c+1] == 'M':\n",
    "               temp +=1\n",
    "          if c-1 >=0 and matrix[r][c-1] == 'M':\n",
    "               temp +=1 \n",
    "          if c+1 < column and matrix[r][c+1] == 'M':\n",
    "               temp +=1               \n",
    "          if r+1 < row and c-1 >=0 and matrix[r+1][c-1] == 'M':\n",
    "               temp +=1             \n",
    "          if r+1 < row and matrix[r+1][c] == 'M':\n",
    "               temp +=1\n",
    "          if r+1 < row  and c+1 < column and matrix[r+1][c+1] == 'M':\n",
    "               temp +=1\n",
    "          matrix[r][c]= temp\n",
    "print(matrix)\n",
    "\n",
    "           "
   ]
  },
  {
   "cell_type": "markdown",
   "metadata": {},
   "source": []
  },
  {
   "cell_type": "markdown",
   "metadata": {},
   "source": []
  }
 ],
 "metadata": {
  "kernelspec": {
   "display_name": "base",
   "language": "python",
   "name": "python3"
  },
  "language_info": {
   "codemirror_mode": {
    "name": "ipython",
    "version": 3
   },
   "file_extension": ".py",
   "mimetype": "text/x-python",
   "name": "python",
   "nbconvert_exporter": "python",
   "pygments_lexer": "ipython3",
   "version": "3.9.6"
  }
 },
 "nbformat": 4,
 "nbformat_minor": 2
}
